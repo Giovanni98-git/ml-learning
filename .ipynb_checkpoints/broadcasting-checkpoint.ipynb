{
 "cells": [
  {
   "cell_type": "code",
   "execution_count": 2,
   "id": "7dd3183e-e5a2-4a62-b5a0-8e4f0005dc92",
   "metadata": {},
   "outputs": [],
   "source": [
    "import numpy as np\n",
    "A = np.random.randint(0,10,[2,3])\n",
    "B = np.ones((2,3))"
   ]
  },
  {
   "cell_type": "code",
   "execution_count": 3,
   "id": "2be1357b-a01a-4134-9fb5-b8bb8327f71a",
   "metadata": {},
   "outputs": [
    {
     "data": {
      "text/plain": [
       "array([[4, 5, 9],\n",
       "       [4, 7, 9]])"
      ]
     },
     "execution_count": 3,
     "metadata": {},
     "output_type": "execute_result"
    }
   ],
   "source": [
    "A"
   ]
  },
  {
   "cell_type": "code",
   "execution_count": 4,
   "id": "3f774e3a-f6f2-43cc-be79-e338f8865621",
   "metadata": {},
   "outputs": [
    {
     "data": {
      "text/plain": [
       "array([[1., 1., 1.],\n",
       "       [1., 1., 1.]])"
      ]
     },
     "execution_count": 4,
     "metadata": {},
     "output_type": "execute_result"
    }
   ],
   "source": [
    "B"
   ]
  },
  {
   "cell_type": "code",
   "execution_count": 5,
   "id": "5c5310a3-75e3-47d0-af2b-4ba7a81438fc",
   "metadata": {},
   "outputs": [
    {
     "data": {
      "text/plain": [
       "array([[ 5.,  6., 10.],\n",
       "       [ 5.,  8., 10.]])"
      ]
     },
     "execution_count": 5,
     "metadata": {},
     "output_type": "execute_result"
    }
   ],
   "source": [
    "A+B"
   ]
  },
  {
   "cell_type": "markdown",
   "id": "2ca3ecf6-48f1-4e16-a535-2a397608b644",
   "metadata": {},
   "source": [
    "# Broadcasting\n",
    "#### Le Broadcasting consiste à étendre les dimensions d'un tableau. Chaqu'une des dimensions "
   ]
  },
  {
   "cell_type": "code",
   "execution_count": 6,
   "id": "e0a661c3-c524-481c-af6b-f0582e85a954",
   "metadata": {},
   "outputs": [
    {
     "data": {
      "text/plain": [
       "array([[ 6,  7, 11],\n",
       "       [ 6,  9, 11]])"
      ]
     },
     "execution_count": 6,
     "metadata": {},
     "output_type": "execute_result"
    }
   ],
   "source": [
    "A + 2"
   ]
  },
  {
   "cell_type": "code",
   "execution_count": 7,
   "id": "efe06a12-bed5-45a8-b41d-6d52b2f39c09",
   "metadata": {},
   "outputs": [
    {
     "data": {
      "text/plain": [
       "array([[6., 6., 6.],\n",
       "       [1., 1., 1.],\n",
       "       [4., 4., 4.],\n",
       "       [4., 4., 4.]])"
      ]
     },
     "execution_count": 7,
     "metadata": {},
     "output_type": "execute_result"
    }
   ],
   "source": [
    "np.random.seed(0)\n",
    "C = np.random.randint(0,10,[4,1])\n",
    "D = np.ones((1,3))\n",
    "C + D"
   ]
  },
  {
   "cell_type": "markdown",
   "id": "56654103-37a9-4649-a8e6-12e358463714",
   "metadata": {},
   "source": [
    "On peut utiliser la fonction Reshape pour redimensionner nos matrices lorsqu'elles sont incomplètes"
   ]
  },
  {
   "cell_type": "markdown",
   "id": "b743a6dd-5d6e-4a92-8faa-4646cf2e915f",
   "metadata": {},
   "source": [
    "## Exercice\n",
    "Standardisez la matrice A sur chaque colonne <br>\n",
    "(A - m(A) ) / &(A) <br>\n",
    "Résultat: chaque colonne doit avoir moyenne = 0 et écart-type = 1"
   ]
  },
  {
   "cell_type": "code",
   "execution_count": null,
   "id": "4238f092-1d23-4884-ac24-153b455078b6",
   "metadata": {},
   "outputs": [],
   "source": [
    "np.random.seed(0)\n",
    "A = np.random.randint(0,100,[10,5])\n",
    "A"
   ]
  }
 ],
 "metadata": {
  "kernelspec": {
   "display_name": "Python [conda env:base] *",
   "language": "python",
   "name": "conda-base-py"
  },
  "language_info": {
   "codemirror_mode": {
    "name": "ipython",
    "version": 3
   },
   "file_extension": ".py",
   "mimetype": "text/x-python",
   "name": "python",
   "nbconvert_exporter": "python",
   "pygments_lexer": "ipython3",
   "version": "3.12.7"
  }
 },
 "nbformat": 4,
 "nbformat_minor": 5
}
