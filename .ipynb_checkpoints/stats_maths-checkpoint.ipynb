{
 "cells": [
  {
   "cell_type": "code",
   "execution_count": 1,
   "id": "4a770a7d-a7ef-4f80-87f7-14b7bed7900a",
   "metadata": {},
   "outputs": [],
   "source": [
    "import numpy as np"
   ]
  },
  {
   "cell_type": "code",
   "execution_count": 15,
   "id": "98b138c0-b2e1-40df-aea1-075dac4f1b37",
   "metadata": {},
   "outputs": [
    {
     "data": {
      "text/plain": [
       "array([[5, 0, 3, 3, 7],\n",
       "       [9, 3, 5, 2, 4],\n",
       "       [7, 6, 8, 8, 1],\n",
       "       [6, 7, 7, 8, 1],\n",
       "       [5, 9, 8, 9, 4]])"
      ]
     },
     "execution_count": 15,
     "metadata": {},
     "output_type": "execute_result"
    }
   ],
   "source": [
    "np.random.seed(0)\n",
    "A = np.random.randint(0,10,[5,5])\n",
    "A"
   ]
  },
  {
   "cell_type": "markdown",
   "id": "d9008258-8b1a-4182-a0e8-79b13b02e285",
   "metadata": {},
   "source": [
    "# Methodes ndarray"
   ]
  },
  {
   "cell_type": "code",
   "execution_count": 5,
   "id": "98b775c8-80c6-4b33-94cc-81436c65cfa7",
   "metadata": {},
   "outputs": [
    {
     "data": {
      "text/plain": [
       "array([ 8, 19])"
      ]
     },
     "execution_count": 5,
     "metadata": {},
     "output_type": "execute_result"
    }
   ],
   "source": [
    "A.sum(axis=1)"
   ]
  },
  {
   "cell_type": "code",
   "execution_count": 6,
   "id": "f264102a-724f-4e2f-bcab-a78ca75e130a",
   "metadata": {},
   "outputs": [
    {
     "data": {
      "text/plain": [
       "array([1, 0, 0])"
      ]
     },
     "execution_count": 6,
     "metadata": {},
     "output_type": "execute_result"
    }
   ],
   "source": [
    "A.argmin(axis=0)"
   ]
  },
  {
   "cell_type": "code",
   "execution_count": 7,
   "id": "dbdd476d-8888-4ab5-a25a-55900c032cc0",
   "metadata": {},
   "outputs": [
    {
     "data": {
      "text/plain": [
       "array([[1.48413159e+02, 1.00000000e+00, 2.00855369e+01],\n",
       "       [2.00855369e+01, 1.09663316e+03, 8.10308393e+03]])"
      ]
     },
     "execution_count": 7,
     "metadata": {},
     "output_type": "execute_result"
    }
   ],
   "source": [
    "np.exp(A)"
   ]
  },
  {
   "cell_type": "markdown",
   "id": "e3d1dd6c-1cc9-4a16-bbf0-ff5510f57453",
   "metadata": {},
   "source": [
    "## Statistiques"
   ]
  },
  {
   "cell_type": "code",
   "execution_count": 8,
   "id": "20658d0f-5cbc-4196-8cb5-2f071d63f80e",
   "metadata": {},
   "outputs": [
    {
     "data": {
      "text/plain": [
       "array([[5, 0, 3],\n",
       "       [3, 7, 9]])"
      ]
     },
     "execution_count": 8,
     "metadata": {},
     "output_type": "execute_result"
    }
   ],
   "source": [
    "A"
   ]
  },
  {
   "cell_type": "code",
   "execution_count": 9,
   "id": "dfc2451f-9e0c-4912-8fef-ffa30f0d1b45",
   "metadata": {},
   "outputs": [
    {
     "data": {
      "text/plain": [
       "4.5"
      ]
     },
     "execution_count": 9,
     "metadata": {},
     "output_type": "execute_result"
    }
   ],
   "source": [
    "A.mean()"
   ]
  },
  {
   "cell_type": "code",
   "execution_count": 10,
   "id": "33a0404d-abdf-435c-89fc-89915700438c",
   "metadata": {},
   "outputs": [
    {
     "data": {
      "text/plain": [
       "2.9297326385411577"
      ]
     },
     "execution_count": 10,
     "metadata": {},
     "output_type": "execute_result"
    }
   ],
   "source": [
    "A.std()"
   ]
  },
  {
   "cell_type": "code",
   "execution_count": 11,
   "id": "3b262136-5576-4cf5-8c66-231e073d9367",
   "metadata": {},
   "outputs": [
    {
     "data": {
      "text/plain": [
       "8.583333333333334"
      ]
     },
     "execution_count": 11,
     "metadata": {},
     "output_type": "execute_result"
    }
   ],
   "source": [
    "A.var()"
   ]
  },
  {
   "cell_type": "code",
   "execution_count": 13,
   "id": "174eec3c-b32d-4a8f-94cb-a7989ee7fae8",
   "metadata": {},
   "outputs": [
    {
     "data": {
      "text/plain": [
       "-0.563621480190678"
      ]
     },
     "execution_count": 13,
     "metadata": {},
     "output_type": "execute_result"
    }
   ],
   "source": [
    "np.corrcoef(A)[0,1]"
   ]
  },
  {
   "cell_type": "code",
   "execution_count": 17,
   "id": "4ca52099-3c99-4f97-b0ae-5c32702dcbae",
   "metadata": {},
   "outputs": [
    {
     "data": {
      "text/plain": [
       "array([1, 2, 1, 3, 2, 3, 2, 4, 4, 3])"
      ]
     },
     "execution_count": 17,
     "metadata": {},
     "output_type": "execute_result"
    }
   ],
   "source": [
    "values, counts = np.unique(A,return_counts=1)\n",
    "counts"
   ]
  },
  {
   "cell_type": "code",
   "execution_count": 19,
   "id": "8f29456e-3fc8-4c61-aefc-e285504a685f",
   "metadata": {},
   "outputs": [
    {
     "name": "stdout",
     "output_type": "stream",
     "text": [
      "valeur 0 apparait 1 fois\n",
      "valeur 2 apparait 1 fois\n",
      "valeur 1 apparait 2 fois\n",
      "valeur 4 apparait 2 fois\n",
      "valeur 6 apparait 2 fois\n",
      "valeur 3 apparait 3 fois\n",
      "valeur 5 apparait 3 fois\n",
      "valeur 9 apparait 3 fois\n",
      "valeur 7 apparait 4 fois\n",
      "valeur 8 apparait 4 fois\n"
     ]
    }
   ],
   "source": [
    "for i, j in zip(values[counts.argsort()], counts[counts.argsort()]):\n",
    "    print(f'valeur {i} apparait {j} fois')"
   ]
  },
  {
   "cell_type": "markdown",
   "id": "8fb2e033-7667-4bfe-b0f0-aea15b54407c",
   "metadata": {},
   "source": [
    "## NaN Corrections"
   ]
  },
  {
   "cell_type": "code",
   "execution_count": 22,
   "id": "839d0f5e-3d61-49f2-82ca-f3c8dcc485e0",
   "metadata": {},
   "outputs": [
    {
     "data": {
      "text/plain": [
       "array([[ 0.17742614, -0.40178094,         nan,  0.46278226, -0.90729836],\n",
       "       [ 0.0519454 ,  0.72909056,  0.12898291,  1.13940068, -1.23482582],\n",
       "       [ 0.40234164, -0.68481009, -0.87079715, -0.57884966, -0.31155253],\n",
       "       [ 0.05616534, -1.16514984,  0.90082649,  0.46566244, -1.53624369],\n",
       "       [ 1.48825219,  1.89588918,  1.17877957,         nan, -1.07075262]])"
      ]
     },
     "execution_count": 22,
     "metadata": {},
     "output_type": "execute_result"
    }
   ],
   "source": [
    "A  = np.random.randn(5,5)\n",
    "A[0,2] = np.nan\n",
    "A[4,3] = np.nan\n",
    "A"
   ]
  },
  {
   "cell_type": "code",
   "execution_count": 23,
   "id": "0b39c9c2-4791-4123-839d-57d132892fea",
   "metadata": {},
   "outputs": [
    {
     "data": {
      "text/plain": [
       "0.01371669980875766"
      ]
     },
     "execution_count": 23,
     "metadata": {},
     "output_type": "execute_result"
    }
   ],
   "source": [
    "np.nanmean(A)"
   ]
  },
  {
   "cell_type": "code",
   "execution_count": 25,
   "id": "701c0527-a4d1-4dfd-aff1-5af6e7ca8f2d",
   "metadata": {},
   "outputs": [
    {
     "data": {
      "text/plain": [
       "0.08"
      ]
     },
     "execution_count": 25,
     "metadata": {},
     "output_type": "execute_result"
    }
   ],
   "source": [
    "np.isnan(A).sum()/A.size"
   ]
  },
  {
   "cell_type": "code",
   "execution_count": null,
   "id": "7e193a9b-4fac-4b1a-b431-7711093f6fb5",
   "metadata": {},
   "outputs": [],
   "source": [
    "A[np.isnan(A)] = 0"
   ]
  }
 ],
 "metadata": {
  "kernelspec": {
   "display_name": "Python [conda env:base] *",
   "language": "python",
   "name": "conda-base-py"
  },
  "language_info": {
   "codemirror_mode": {
    "name": "ipython",
    "version": 3
   },
   "file_extension": ".py",
   "mimetype": "text/x-python",
   "name": "python",
   "nbconvert_exporter": "python",
   "pygments_lexer": "ipython3",
   "version": "3.12.7"
  }
 },
 "nbformat": 4,
 "nbformat_minor": 5
}
